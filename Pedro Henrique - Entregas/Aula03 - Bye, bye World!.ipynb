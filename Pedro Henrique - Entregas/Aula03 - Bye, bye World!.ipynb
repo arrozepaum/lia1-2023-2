{
 "cells": [
  {
   "cell_type": "markdown",
   "id": "344b761c",
   "metadata": {},
   "source": [
    "# <hr style=\"height:10px\"> \n",
    " \n",
    "<div class='container2'>\n",
    "\t\t<div>\n",
    "\t\t\t<img src='imagens/c.jpg' ALIGN='left' style='width:10em'>\n",
    "\t\t</div>\t\n",
    "\t<div style='padding: 0 7em 2em 12em;'>\n",
    "\t<h1>Laboratório de Inovação e Automação 1 (LIA 1)</h1>\n",
    "\t<div style=\"font-size:12pt;float:left;\"> 2023/2 | 24M34 | Sala 200 CAE</div><br><br>\n",
    "    <div style=\"font-size:12pt;float:left;\"><b>Projetos de Inteligência Artificial</b></div>\n",
    "\t</div>\n",
    "</div>\n",
    "\n",
    "\n",
    " <hr style=\"height:5px\"> \n",
    "\n",
    "    \n",
    "<h2>Introdução ao Ambiente de Projetos - Python</h2>\n",
    "\n",
    "Notebook desenvolvido por: <a href=\"http://lattes.cnpq.br/1346824250595330\">Prof. Dr. Adriano C. Santana</a>\n",
    "\n",
    " <hr style=\"height:2px\"> "
   ]
  },
  {
   "cell_type": "code",
   "execution_count": 1,
   "id": "6341f518",
   "metadata": {},
   "outputs": [
    {
     "name": "stdout",
     "output_type": "stream",
     "text": [
      "A versão em uso é 3.10.9.\n"
     ]
    }
   ],
   "source": [
    "from platform import python_version\n",
    "print (f\"A versão em uso é {python_version()}.\")"
   ]
  },
  {
   "cell_type": "code",
   "execution_count": null,
   "id": "92863716",
   "metadata": {},
   "outputs": [],
   "source": [
    "# Verificar se o Python está funcionando\n",
    " print (\"Bye, Bye World!\")"
   ]
  },
  {
   "cell_type": "markdown",
   "id": "9e32e472",
   "metadata": {},
   "source": [
    "#Operadores Aritméticos"
   ]
  },
  {
   "cell_type": "code",
   "execution_count": null,
   "id": "cf33c103",
   "metadata": {},
   "outputs": [],
   "source": [
    "#adição\n",
    "3+3"
   ]
  },
  {
   "cell_type": "code",
   "execution_count": null,
   "id": "1c5fbfdd",
   "metadata": {},
   "outputs": [],
   "source": [
    "#subtração\n",
    "3-2"
   ]
  },
  {
   "cell_type": "code",
   "execution_count": null,
   "id": "a6a88b7f",
   "metadata": {},
   "outputs": [],
   "source": [
    "#Multiplicaçâo\n",
    "3*3"
   ]
  },
  {
   "cell_type": "code",
   "execution_count": null,
   "id": "b2e86fc9",
   "metadata": {},
   "outputs": [],
   "source": [
    "#Divisão\n",
    "3/3"
   ]
  },
  {
   "cell_type": "code",
   "execution_count": null,
   "id": "15069d19",
   "metadata": {},
   "outputs": [],
   "source": [
    "#Potência\n",
    "3**3"
   ]
  },
  {
   "cell_type": "code",
   "execution_count": null,
   "id": "282d1576",
   "metadata": {},
   "outputs": [],
   "source": [
    "#Resto de Divisão\n",
    "3%3"
   ]
  },
  {
   "cell_type": "code",
   "execution_count": null,
   "id": "67cd6338",
   "metadata": {},
   "outputs": [],
   "source": [
    "#Tipos de Dados (Types)"
   ]
  },
  {
   "cell_type": "code",
   "execution_count": null,
   "id": "2625c841",
   "metadata": {},
   "outputs": [],
   "source": [
    "#Tipo Integral\n",
    "a = 1\n",
    "type (a)"
   ]
  },
  {
   "cell_type": "code",
   "execution_count": null,
   "id": "912bb4a6",
   "metadata": {},
   "outputs": [],
   "source": [
    "#Tipo Float\n",
    "a = 1.2\n",
    "type (a)"
   ]
  },
  {
   "cell_type": "code",
   "execution_count": null,
   "id": "914d9953",
   "metadata": {},
   "outputs": [],
   "source": [
    "#Tipo String \n",
    "a = \"1\"\n",
    "type (a)"
   ]
  },
  {
   "cell_type": "code",
   "execution_count": null,
   "id": "88decd7e",
   "metadata": {},
   "outputs": [],
   "source": [
    "#Tipo Booleano\n",
    "a = True\n",
    "type (a)"
   ]
  },
  {
   "cell_type": "code",
   "execution_count": 13,
   "id": "479ad805",
   "metadata": {},
   "outputs": [],
   "source": [
    "#Definindo o Arquivo para a Leitura\n",
    "al = open(\"Documents/arquivo.txt\")"
   ]
  },
  {
   "cell_type": "code",
   "execution_count": 14,
   "id": "910e6de8",
   "metadata": {},
   "outputs": [
    {
     "name": "stdout",
     "output_type": "stream",
     "text": [
      "eu\n"
     ]
    }
   ],
   "source": [
    "#Abrindo o Arquivo para a lEITURA\n",
    "print(al.read())"
   ]
  },
  {
   "cell_type": "code",
   "execution_count": 15,
   "id": "0892bc09",
   "metadata": {},
   "outputs": [],
   "source": [
    "#Arquivo para ser gravado\n",
    "a2 = open (\"Documents/arquivo2.txt\")"
   ]
  },
  {
   "cell_type": "code",
   "execution_count": null,
   "id": "74ff4fe5",
   "metadata": {},
   "outputs": [],
   "source": [
    "#Gravando no\n",
    "a2.write(\"Teste Python\")"
   ]
  }
 ],
 "metadata": {
  "kernelspec": {
   "display_name": "Python 3 (ipykernel)",
   "language": "python",
   "name": "python3"
  },
  "language_info": {
   "codemirror_mode": {
    "name": "ipython",
    "version": 3
   },
   "file_extension": ".py",
   "mimetype": "text/x-python",
   "name": "python",
   "nbconvert_exporter": "python",
   "pygments_lexer": "ipython3",
   "version": "3.10.9"
  }
 },
 "nbformat": 4,
 "nbformat_minor": 5
}
